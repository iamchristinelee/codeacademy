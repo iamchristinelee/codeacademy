{
 "cells": [
  {
   "cell_type": "code",
   "execution_count": 3,
   "metadata": {},
   "outputs": [
    {
     "name": "stdout",
     "output_type": "stream",
     "text": [
      "5541\n",
      "['Mammal' 'Bird' 'Reptile' 'Amphibian' 'Fish' 'Vascular Plant'\n",
      " 'Nonvascular Plant']\n",
      "[nan 'Species of Concern' 'Endangered' 'Threatened' 'In Recovery']\n",
      "  conservation_status  scientific_name\n",
      "0          Endangered               15\n",
      "1         In Recovery                4\n",
      "2  Species of Concern              151\n",
      "3          Threatened               10\n",
      "  conservation_status  scientific_name\n",
      "0          Endangered               15\n",
      "1         In Recovery                4\n",
      "2     No Intervention             5363\n",
      "3  Species of Concern              151\n",
      "4          Threatened               10\n",
      "  conservation_status  scientific_name\n",
      "1         In Recovery                4\n",
      "4          Threatened               10\n",
      "0          Endangered               15\n",
      "3  Species of Concern              151\n",
      "2     No Intervention             5363\n"
     ]
    },
    {
     "data": {
      "image/png": "[encoded data removed]",
      "text/plain": [
       "<matplotlib.figure.Figure at 0xc4e3c50>"
      ]
     },
     "metadata": {},
     "output_type": "display_data"
    },
    {
     "data": {
      "text/plain": [
       "'\\n\\n'"
      ]
     },
     "execution_count": 3,
     "metadata": {},
     "output_type": "execute_result"
    }
   ],
   "source": [
    "import pandas as pd\n",
    "from matplotlib import pyplot as plt\n",
    "\n",
    "# Loading the Data\n",
    "species = pd.read_csv('species_info.csv')\n",
    "\n",
    "# print species.head()\n",
    "\n",
    "species_count = species.scientific_name.nunique()\n",
    "print species_count\n",
    "species_type = species.category.unique()\n",
    "print species_type\n",
    "conservation_statuses = species.conservation_status.unique()\n",
    "print conservation_statuses\n",
    "\n",
    "conservation_counts=species.groupby('conservation_status').scientific_name.nunique().reset_index()\n",
    "\n",
    "print conservation_counts\n",
    "\n",
    "species.fillna('No Intervention', inplace = True)\n",
    "\n",
    "\n",
    "conservation_counts_fixed=species.groupby('conservation_status').scientific_name.nunique().reset_index()\n",
    "print conservation_counts_fixed\n",
    "\n",
    "\n",
    "species = pd.read_csv('species_info.csv')\n",
    "\n",
    "species.fillna('No Intervention', inplace = True)\n",
    "\n",
    "protection_counts= species.groupby('conservation_status')\\\n",
    "    .scientific_name.nunique().reset_index()\\\n",
    "    .sort_values(by='scientific_name')\n",
    "    \n",
    "print protection_counts\n",
    "\"\"\"Create an axes objected called ax using plt.subplot.\n",
    "Create a bar chart whose heights are equal to the scientific_name column of protection_counts.\n",
    "Create an x-tick for each of the bars.\n",
    "Label each x-tick with the label from conservation_status in protection_counts.\n",
    "Label the y-axis Number of Species.\n",
    "Title the graph Conservation Status by Species\n",
    "Plot the graph using plt.show().\n",
    "\"\"\"\n",
    "plt.figure(figsize=(10,4))\n",
    "ax = plt.subplot()\n",
    "plt.bar(range(len(protection_counts.conservation_status)), protection_counts.scientific_name)\n",
    "ax.set_xticks(range(len(protection_counts.conservation_status)))\n",
    "ax.set_xticklabels(protection_counts.conservation_status)\n",
    "plt.ylabel('Number of Species')\n",
    "plt.title('Conservation Status by Species')\n",
    "plt.show()\n",
    "\n",
    "\"\"\"\n",
    "\n",
    "\"\"\""
   ]
  },
  {
   "cell_type": "code",
   "execution_count": null,
   "metadata": {},
   "outputs": [],
   "source": []
  }
 ],
 "metadata": {
  "kernelspec": {
   "display_name": "Python 2",
   "language": "python",
   "name": "python2"
  },
  "language_info": {
   "codemirror_mode": {
    "name": "ipython",
    "version": 2
   },
   "file_extension": ".py",
   "mimetype": "text/x-python",
   "name": "python",
   "nbconvert_exporter": "python",
   "pygments_lexer": "ipython2",
   "version": "2.7.14"
  }
 },
 "nbformat": 4,
 "nbformat_minor": 2
}
